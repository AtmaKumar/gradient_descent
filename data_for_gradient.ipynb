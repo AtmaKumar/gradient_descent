{
  "nbformat": 4,
  "nbformat_minor": 0,
  "metadata": {
    "colab": {
      "name": "data_for_gradient.ipynb",
      "provenance": []
    },
    "kernelspec": {
      "name": "python3",
      "display_name": "Python 3"
    },
    "language_info": {
      "name": "python"
    }
  },
  "cells": [
    {
      "cell_type": "code",
      "execution_count": 18,
      "metadata": {
        "id": "M0PXqvqexrCs"
      },
      "outputs": [],
      "source": [
        "import pandas as pd"
      ]
    },
    {
      "cell_type": "code",
      "source": [
        "data=pd.read_csv(\"/content/data_for_gradient.csv\")"
      ],
      "metadata": {
        "id": "HJ5YiXrFyMi9"
      },
      "execution_count": 19,
      "outputs": []
    },
    {
      "cell_type": "code",
      "source": [
        "data.head()"
      ],
      "metadata": {
        "colab": {
          "base_uri": "https://localhost:8080/",
          "height": 206
        },
        "id": "KRor-FFcyQPY",
        "outputId": "facd4d26-963a-4824-f598-bff76e36ac43"
      },
      "execution_count": 20,
      "outputs": [
        {
          "output_type": "execute_result",
          "data": {
            "text/html": [
              "\n",
              "  <div id=\"df-bf8fab39-fadd-43a0-b31b-83df61d78021\">\n",
              "    <div class=\"colab-df-container\">\n",
              "      <div>\n",
              "<style scoped>\n",
              "    .dataframe tbody tr th:only-of-type {\n",
              "        vertical-align: middle;\n",
              "    }\n",
              "\n",
              "    .dataframe tbody tr th {\n",
              "        vertical-align: top;\n",
              "    }\n",
              "\n",
              "    .dataframe thead th {\n",
              "        text-align: right;\n",
              "    }\n",
              "</style>\n",
              "<table border=\"1\" class=\"dataframe\">\n",
              "  <thead>\n",
              "    <tr style=\"text-align: right;\">\n",
              "      <th></th>\n",
              "      <th>x</th>\n",
              "      <th>y</th>\n",
              "    </tr>\n",
              "  </thead>\n",
              "  <tbody>\n",
              "    <tr>\n",
              "      <th>0</th>\n",
              "      <td>3.0</td>\n",
              "      <td>8.50</td>\n",
              "    </tr>\n",
              "    <tr>\n",
              "      <th>1</th>\n",
              "      <td>3.3</td>\n",
              "      <td>9.16</td>\n",
              "    </tr>\n",
              "    <tr>\n",
              "      <th>2</th>\n",
              "      <td>4.0</td>\n",
              "      <td>10.70</td>\n",
              "    </tr>\n",
              "    <tr>\n",
              "      <th>3</th>\n",
              "      <td>2.3</td>\n",
              "      <td>6.96</td>\n",
              "    </tr>\n",
              "    <tr>\n",
              "      <th>4</th>\n",
              "      <td>4.0</td>\n",
              "      <td>10.70</td>\n",
              "    </tr>\n",
              "  </tbody>\n",
              "</table>\n",
              "</div>\n",
              "      <button class=\"colab-df-convert\" onclick=\"convertToInteractive('df-bf8fab39-fadd-43a0-b31b-83df61d78021')\"\n",
              "              title=\"Convert this dataframe to an interactive table.\"\n",
              "              style=\"display:none;\">\n",
              "        \n",
              "  <svg xmlns=\"http://www.w3.org/2000/svg\" height=\"24px\"viewBox=\"0 0 24 24\"\n",
              "       width=\"24px\">\n",
              "    <path d=\"M0 0h24v24H0V0z\" fill=\"none\"/>\n",
              "    <path d=\"M18.56 5.44l.94 2.06.94-2.06 2.06-.94-2.06-.94-.94-2.06-.94 2.06-2.06.94zm-11 1L8.5 8.5l.94-2.06 2.06-.94-2.06-.94L8.5 2.5l-.94 2.06-2.06.94zm10 10l.94 2.06.94-2.06 2.06-.94-2.06-.94-.94-2.06-.94 2.06-2.06.94z\"/><path d=\"M17.41 7.96l-1.37-1.37c-.4-.4-.92-.59-1.43-.59-.52 0-1.04.2-1.43.59L10.3 9.45l-7.72 7.72c-.78.78-.78 2.05 0 2.83L4 21.41c.39.39.9.59 1.41.59.51 0 1.02-.2 1.41-.59l7.78-7.78 2.81-2.81c.8-.78.8-2.07 0-2.86zM5.41 20L4 18.59l7.72-7.72 1.47 1.35L5.41 20z\"/>\n",
              "  </svg>\n",
              "      </button>\n",
              "      \n",
              "  <style>\n",
              "    .colab-df-container {\n",
              "      display:flex;\n",
              "      flex-wrap:wrap;\n",
              "      gap: 12px;\n",
              "    }\n",
              "\n",
              "    .colab-df-convert {\n",
              "      background-color: #E8F0FE;\n",
              "      border: none;\n",
              "      border-radius: 50%;\n",
              "      cursor: pointer;\n",
              "      display: none;\n",
              "      fill: #1967D2;\n",
              "      height: 32px;\n",
              "      padding: 0 0 0 0;\n",
              "      width: 32px;\n",
              "    }\n",
              "\n",
              "    .colab-df-convert:hover {\n",
              "      background-color: #E2EBFA;\n",
              "      box-shadow: 0px 1px 2px rgba(60, 64, 67, 0.3), 0px 1px 3px 1px rgba(60, 64, 67, 0.15);\n",
              "      fill: #174EA6;\n",
              "    }\n",
              "\n",
              "    [theme=dark] .colab-df-convert {\n",
              "      background-color: #3B4455;\n",
              "      fill: #D2E3FC;\n",
              "    }\n",
              "\n",
              "    [theme=dark] .colab-df-convert:hover {\n",
              "      background-color: #434B5C;\n",
              "      box-shadow: 0px 1px 3px 1px rgba(0, 0, 0, 0.15);\n",
              "      filter: drop-shadow(0px 1px 2px rgba(0, 0, 0, 0.3));\n",
              "      fill: #FFFFFF;\n",
              "    }\n",
              "  </style>\n",
              "\n",
              "      <script>\n",
              "        const buttonEl =\n",
              "          document.querySelector('#df-bf8fab39-fadd-43a0-b31b-83df61d78021 button.colab-df-convert');\n",
              "        buttonEl.style.display =\n",
              "          google.colab.kernel.accessAllowed ? 'block' : 'none';\n",
              "\n",
              "        async function convertToInteractive(key) {\n",
              "          const element = document.querySelector('#df-bf8fab39-fadd-43a0-b31b-83df61d78021');\n",
              "          const dataTable =\n",
              "            await google.colab.kernel.invokeFunction('convertToInteractive',\n",
              "                                                     [key], {});\n",
              "          if (!dataTable) return;\n",
              "\n",
              "          const docLinkHtml = 'Like what you see? Visit the ' +\n",
              "            '<a target=\"_blank\" href=https://colab.research.google.com/notebooks/data_table.ipynb>data table notebook</a>'\n",
              "            + ' to learn more about interactive tables.';\n",
              "          element.innerHTML = '';\n",
              "          dataTable['output_type'] = 'display_data';\n",
              "          await google.colab.output.renderOutput(dataTable, element);\n",
              "          const docLink = document.createElement('div');\n",
              "          docLink.innerHTML = docLinkHtml;\n",
              "          element.appendChild(docLink);\n",
              "        }\n",
              "      </script>\n",
              "    </div>\n",
              "  </div>\n",
              "  "
            ],
            "text/plain": [
              "     x      y\n",
              "0  3.0   8.50\n",
              "1  3.3   9.16\n",
              "2  4.0  10.70\n",
              "3  2.3   6.96\n",
              "4  4.0  10.70"
            ]
          },
          "metadata": {},
          "execution_count": 20
        }
      ]
    },
    {
      "cell_type": "code",
      "source": [
        "import numpy as np\n",
        "x=np.array(data[\"x\"])\n",
        "y=np.array(data[\"y\"])"
      ],
      "metadata": {
        "id": "Mx3RiRpyyRtd"
      },
      "execution_count": 21,
      "outputs": []
    },
    {
      "cell_type": "code",
      "source": [
        "import random"
      ],
      "metadata": {
        "id": "HdutRJCJ0E7Z"
      },
      "execution_count": 22,
      "outputs": []
    },
    {
      "cell_type": "code",
      "source": [
        "w0=random.random()\n",
        "w1=random.random()"
      ],
      "metadata": {
        "id": "k9Pu_GTV0Hkr"
      },
      "execution_count": 23,
      "outputs": []
    },
    {
      "cell_type": "code",
      "source": [
        "w0,w1"
      ],
      "metadata": {
        "colab": {
          "base_uri": "https://localhost:8080/"
        },
        "id": "ONulLCGd0L64",
        "outputId": "6ae80475-e638-4b0d-c360-acdfd357c78c"
      },
      "execution_count": 24,
      "outputs": [
        {
          "output_type": "execute_result",
          "data": {
            "text/plain": [
              "(0.6184951261786026, 0.6077685461308823)"
            ]
          },
          "metadata": {},
          "execution_count": 24
        }
      ]
    },
    {
      "cell_type": "code",
      "source": [
        "yp=w0+w1*x"
      ],
      "metadata": {
        "id": "eCDkrFug0NK2"
      },
      "execution_count": 25,
      "outputs": []
    },
    {
      "cell_type": "code",
      "source": [
        "y"
      ],
      "metadata": {
        "colab": {
          "base_uri": "https://localhost:8080/"
        },
        "id": "8yDUCNVy0ccQ",
        "outputId": "4eacbab7-2c60-4668-c67e-b050d42cd22f"
      },
      "execution_count": 26,
      "outputs": [
        {
          "output_type": "execute_result",
          "data": {
            "text/plain": [
              "array([ 8.5  ,  9.16 , 10.7  ,  6.96 , 10.7  , 12.9  ,  6.08 ,  6.3  ,\n",
              "        9.16 , 10.48 , 10.92 , 11.36 , 11.58 , 12.46 ,  6.3  ,  6.96 ,\n",
              "        9.16 ,  9.182,  9.38 , 11.14 ,  4.54 ,  9.16 ,  9.38 ,  4.54 ,\n",
              "       11.8  , 14.   , 16.42 , 21.7  , 21.26 , 20.6  , 22.14 , 21.48 ])"
            ]
          },
          "metadata": {},
          "execution_count": 26
        }
      ]
    },
    {
      "cell_type": "code",
      "source": [
        "yp"
      ],
      "metadata": {
        "colab": {
          "base_uri": "https://localhost:8080/"
        },
        "id": "2Np6gj3g0QqK",
        "outputId": "57f38cb0-7ab2-4564-9a57-b1754a54356c"
      },
      "execution_count": 27,
      "outputs": [
        {
          "output_type": "execute_result",
          "data": {
            "text/plain": [
              "array([2.44180076, 2.62413133, 3.04956931, 2.01636278, 3.04956931,\n",
              "       3.65733786, 1.77325536, 1.83403222, 2.62413133, 2.98879246,\n",
              "       3.11034617, 3.23189987, 3.29267673, 3.53578415, 1.83403222,\n",
              "       2.01636278, 2.62413133, 2.63020901, 2.68490818, 3.17112302,\n",
              "       1.34781738, 2.62413133, 2.68490818, 1.34781738, 3.35345358,\n",
              "       3.96122213, 4.62976753, 6.08841204, 5.96685833, 5.78452777,\n",
              "       6.20996575, 6.02763519])"
            ]
          },
          "metadata": {},
          "execution_count": 27
        }
      ]
    },
    {
      "cell_type": "code",
      "source": [
        "Loss=1/len(x)*sum((yp-y)**2)\n",
        "Loss"
      ],
      "metadata": {
        "colab": {
          "base_uri": "https://localhost:8080/"
        },
        "id": "OBT2QFlX0Rlg",
        "outputId": "59af74ca-90fe-42de-cee6-3b64938ba414"
      },
      "execution_count": 28,
      "outputs": [
        {
          "output_type": "execute_result",
          "data": {
            "text/plain": [
              "80.19063072995553"
            ]
          },
          "metadata": {},
          "execution_count": 28
        }
      ]
    },
    {
      "cell_type": "code",
      "source": [
        "alpha=.01\n",
        "k=0\n",
        "w0=random.random()\n",
        "w1=random.random()\n",
        "\n",
        "while(k<20):\n",
        "  print(w0,w1)\n",
        "  yp=w0+w1*x\n",
        "  Loss=1/len(x)*sum((yp-y)**2)\n",
        "  print(Loss)\n",
        "  w0=w0-alpha*(2/len(x)*sum(yp-y))\n",
        "  w1=w1-alpha*(2/len(x)*sum((yp-y)*x))\n",
        "  k=k+1"
      ],
      "metadata": {
        "colab": {
          "base_uri": "https://localhost:8080/"
        },
        "id": "Zb6q1N330aU7",
        "outputId": "7135fb11-4fba-484b-9efa-dee64d90b53b"
      },
      "execution_count": 34,
      "outputs": [
        {
          "output_type": "stream",
          "name": "stdout",
          "text": [
            "0.7218944606071716 0.7595541194863227\n",
            "65.90894438139995\n",
            "0.8705142821838749 1.5531202423296704\n",
            "16.882566008487245\n",
            "0.9472652885014384 1.952943010426872\n",
            "4.415858438290391\n",
            "0.9877691617449117 2.1542233824678894\n",
            "1.2449926961566349\n",
            "1.0099880472233793 2.255390782937522\n",
            "0.4377397533161048\n",
            "1.0229793277427548 2.306077914061177\n",
            "0.23147849083576846\n",
            "1.0313101892865009 2.3313118941837416\n",
            "0.17803653072802286\n",
            "1.0372836509876062 2.3437125583429115\n",
            "0.16345939410561766\n",
            "1.0420610332932205 2.34964341051235\n",
            "0.1587724123702927\n",
            "1.046227958780937 2.3523132206864292\n",
            "0.15660828241101749\n",
            "1.0500797561768485 2.3533399948308165\n",
            "0.15509369171742524\n",
            "1.0537653743770936 2.353539601496231\n",
            "0.1537522561429427\n",
            "1.057359950612151 2.3533234341492486\n",
            "0.15246278165028976\n",
            "1.0609014027013628 2.3528989310717594\n",
            "0.15119438705499735\n",
            "1.0644088805753493 2.352370686849149\n",
            "0.14993915508796435\n",
            "1.0678920703949577 2.351791437499755\n",
            "0.14869500793438098\n",
            "1.0713558861226267 2.3511877695556804\n",
            "0.1474613530834942\n",
            "1.074802835232062 2.3505730837806693\n",
            "0.14623797621750034\n",
            "1.0782342116099377 2.349954132081367\n",
            "0.14502475970786943\n",
            "1.0816506970730997 2.3493343137228546\n",
            "0.14382161103451588\n"
          ]
        }
      ]
    },
    {
      "cell_type": "code",
      "source": [
        "w0,w1"
      ],
      "metadata": {
        "colab": {
          "base_uri": "https://localhost:8080/"
        },
        "id": "ntKO1ZAv3jnK",
        "outputId": "2ac665b7-9698-4bcb-ba19-f1b973cfdfd2"
      },
      "execution_count": 35,
      "outputs": [
        {
          "output_type": "execute_result",
          "data": {
            "text/plain": [
              "(1.0850526646821117, 2.34871533743421)"
            ]
          },
          "metadata": {},
          "execution_count": 35
        }
      ]
    },
    {
      "cell_type": "code",
      "source": [
        "yp=w0+w1*x"
      ],
      "metadata": {
        "id": "3ksvCMit5fDp"
      },
      "execution_count": 36,
      "outputs": []
    },
    {
      "cell_type": "code",
      "source": [
        "yp"
      ],
      "metadata": {
        "colab": {
          "base_uri": "https://localhost:8080/"
        },
        "id": "nv9GYMov5iE4",
        "outputId": "5c4a20b9-3ed3-48c4-9e63-e4385e2d2030"
      },
      "execution_count": 37,
      "outputs": [
        {
          "output_type": "execute_result",
          "data": {
            "text/plain": [
              "array([ 8.13119868,  8.83581328, 10.47991401,  6.48709794, 10.47991401,\n",
              "       12.82862935,  5.54761181,  5.78248334,  8.83581328, 10.24504248,\n",
              "       10.71478555, 11.18452862, 11.41940015, 12.35888628,  5.78248334,\n",
              "        6.48709794,  8.83581328,  8.85930043,  9.07068481, 10.94965708,\n",
              "        3.90351107,  8.83581328,  9.07068481,  3.90351107, 11.65427168,\n",
              "       14.00298702, 16.58657389, 22.2234907 , 21.75374763, 21.04913303,\n",
              "       22.69323377, 21.98861917])"
            ]
          },
          "metadata": {},
          "execution_count": 37
        }
      ]
    },
    {
      "cell_type": "code",
      "source": [
        "y"
      ],
      "metadata": {
        "colab": {
          "base_uri": "https://localhost:8080/"
        },
        "id": "OlHKy5eP5jVl",
        "outputId": "460806b7-c896-421e-dfbe-57833ffdf885"
      },
      "execution_count": 38,
      "outputs": [
        {
          "output_type": "execute_result",
          "data": {
            "text/plain": [
              "array([ 8.5  ,  9.16 , 10.7  ,  6.96 , 10.7  , 12.9  ,  6.08 ,  6.3  ,\n",
              "        9.16 , 10.48 , 10.92 , 11.36 , 11.58 , 12.46 ,  6.3  ,  6.96 ,\n",
              "        9.16 ,  9.182,  9.38 , 11.14 ,  4.54 ,  9.16 ,  9.38 ,  4.54 ,\n",
              "       11.8  , 14.   , 16.42 , 21.7  , 21.26 , 20.6  , 22.14 , 21.48 ])"
            ]
          },
          "metadata": {},
          "execution_count": 38
        }
      ]
    },
    {
      "cell_type": "code",
      "source": [
        ""
      ],
      "metadata": {
        "id": "491O5C8O5k_M"
      },
      "execution_count": null,
      "outputs": []
    }
  ]
}